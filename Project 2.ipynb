{
 "cells": [
  {
   "cell_type": "code",
   "execution_count": 1,
   "id": "4ebbf31f",
   "metadata": {},
   "outputs": [],
   "source": [
    "import numpy as np\n",
    "import pandas as pd\n",
    "from sklearn.model_selection import train_test_split\n",
    "from sklearn.preprocessing import StandardScaler\n",
    "from sklearn.preprocessing import LabelEncoder\n",
    "from sklearn.metrics import accuracy_score, confusion_matrix\n",
    "from sklearn.svm import SVC\n",
    "from sklearn.neighbors import KNeighborsClassifier\n",
    "from sklearn.ensemble import RandomForestClassifier\n",
    "from sklearn.ensemble import VotingClassifier  \n",
    "import matplotlib.pyplot as plt\n",
    "import seaborn as sns"
   ]
  },
  {
   "cell_type": "code",
   "execution_count": 2,
   "id": "0d2262d0",
   "metadata": {},
   "outputs": [],
   "source": [
    "data = pd.read_csv(\"final-dataset.csv\")"
   ]
  },
  {
   "cell_type": "code",
   "execution_count": 3,
   "id": "1cb7f301",
   "metadata": {},
   "outputs": [
    {
     "data": {
      "text/html": [
       "<div>\n",
       "<style scoped>\n",
       "    .dataframe tbody tr th:only-of-type {\n",
       "        vertical-align: middle;\n",
       "    }\n",
       "\n",
       "    .dataframe tbody tr th {\n",
       "        vertical-align: top;\n",
       "    }\n",
       "\n",
       "    .dataframe thead th {\n",
       "        text-align: right;\n",
       "    }\n",
       "</style>\n",
       "<table border=\"1\" class=\"dataframe\">\n",
       "  <thead>\n",
       "    <tr style=\"text-align: right;\">\n",
       "      <th></th>\n",
       "      <th>SRC_ADD</th>\n",
       "      <th>DES_ADD</th>\n",
       "      <th>PKT_ID</th>\n",
       "      <th>FROM_NODE</th>\n",
       "      <th>TO_NODE</th>\n",
       "      <th>PKT_TYPE</th>\n",
       "      <th>PKT_SIZE</th>\n",
       "      <th>FID</th>\n",
       "      <th>SEQ_NUMBER</th>\n",
       "      <th>NUMBER_OF_PKT</th>\n",
       "      <th>...</th>\n",
       "      <th>PKT_RATE</th>\n",
       "      <th>BYTE_RATE</th>\n",
       "      <th>PKT_AVG_SIZE</th>\n",
       "      <th>UTILIZATION</th>\n",
       "      <th>PKT_DELAY</th>\n",
       "      <th>PKT_SEND_TIME</th>\n",
       "      <th>PKT_RESEVED_TIME</th>\n",
       "      <th>FIRST_PKT_SENT</th>\n",
       "      <th>LAST_PKT_RESEVED</th>\n",
       "      <th>PKT_CLASS</th>\n",
       "    </tr>\n",
       "  </thead>\n",
       "  <tbody>\n",
       "    <tr>\n",
       "      <th>0</th>\n",
       "      <td>3.00</td>\n",
       "      <td>24.30</td>\n",
       "      <td>389693</td>\n",
       "      <td>21</td>\n",
       "      <td>23</td>\n",
       "      <td>tcp</td>\n",
       "      <td>1540</td>\n",
       "      <td>4</td>\n",
       "      <td>11339</td>\n",
       "      <td>16091</td>\n",
       "      <td>...</td>\n",
       "      <td>328.240918</td>\n",
       "      <td>505490.0</td>\n",
       "      <td>1540.0</td>\n",
       "      <td>0.236321</td>\n",
       "      <td>0.0</td>\n",
       "      <td>35.519662</td>\n",
       "      <td>35.550032</td>\n",
       "      <td>1.000000</td>\n",
       "      <td>50.021920</td>\n",
       "      <td>Normal</td>\n",
       "    </tr>\n",
       "    <tr>\n",
       "      <th>1</th>\n",
       "      <td>15.00</td>\n",
       "      <td>24.15</td>\n",
       "      <td>201196</td>\n",
       "      <td>23</td>\n",
       "      <td>24</td>\n",
       "      <td>tcp</td>\n",
       "      <td>1540</td>\n",
       "      <td>16</td>\n",
       "      <td>6274</td>\n",
       "      <td>16092</td>\n",
       "      <td>...</td>\n",
       "      <td>328.205808</td>\n",
       "      <td>505437.0</td>\n",
       "      <td>1540.0</td>\n",
       "      <td>0.236337</td>\n",
       "      <td>0.0</td>\n",
       "      <td>20.156478</td>\n",
       "      <td>20.186848</td>\n",
       "      <td>1.000000</td>\n",
       "      <td>50.030211</td>\n",
       "      <td>Normal</td>\n",
       "    </tr>\n",
       "    <tr>\n",
       "      <th>2</th>\n",
       "      <td>24.15</td>\n",
       "      <td>15.00</td>\n",
       "      <td>61905</td>\n",
       "      <td>23</td>\n",
       "      <td>22</td>\n",
       "      <td>ack</td>\n",
       "      <td>55</td>\n",
       "      <td>16</td>\n",
       "      <td>1930</td>\n",
       "      <td>16092</td>\n",
       "      <td>...</td>\n",
       "      <td>328.206042</td>\n",
       "      <td>18051.3</td>\n",
       "      <td>55.0</td>\n",
       "      <td>0.008441</td>\n",
       "      <td>0.0</td>\n",
       "      <td>7.039952</td>\n",
       "      <td>7.069962</td>\n",
       "      <td>1.030045</td>\n",
       "      <td>50.060221</td>\n",
       "      <td>UDP-Flood</td>\n",
       "    </tr>\n",
       "    <tr>\n",
       "      <th>3</th>\n",
       "      <td>24.90</td>\n",
       "      <td>9.00</td>\n",
       "      <td>443135</td>\n",
       "      <td>23</td>\n",
       "      <td>21</td>\n",
       "      <td>ack</td>\n",
       "      <td>55</td>\n",
       "      <td>10</td>\n",
       "      <td>12670</td>\n",
       "      <td>16085</td>\n",
       "      <td>...</td>\n",
       "      <td>328.064183</td>\n",
       "      <td>18043.5</td>\n",
       "      <td>55.0</td>\n",
       "      <td>0.008437</td>\n",
       "      <td>0.0</td>\n",
       "      <td>39.617967</td>\n",
       "      <td>39.647976</td>\n",
       "      <td>1.030058</td>\n",
       "      <td>50.060098</td>\n",
       "      <td>Normal</td>\n",
       "    </tr>\n",
       "    <tr>\n",
       "      <th>4</th>\n",
       "      <td>24.80</td>\n",
       "      <td>8.00</td>\n",
       "      <td>157335</td>\n",
       "      <td>23</td>\n",
       "      <td>21</td>\n",
       "      <td>ack</td>\n",
       "      <td>55</td>\n",
       "      <td>9</td>\n",
       "      <td>4901</td>\n",
       "      <td>16088</td>\n",
       "      <td>...</td>\n",
       "      <td>328.113525</td>\n",
       "      <td>18046.2</td>\n",
       "      <td>55.0</td>\n",
       "      <td>0.008438</td>\n",
       "      <td>0.0</td>\n",
       "      <td>16.029803</td>\n",
       "      <td>16.059813</td>\n",
       "      <td>1.030054</td>\n",
       "      <td>50.061864</td>\n",
       "      <td>Normal</td>\n",
       "    </tr>\n",
       "  </tbody>\n",
       "</table>\n",
       "<p>5 rows × 27 columns</p>\n",
       "</div>"
      ],
      "text/plain": [
       "   SRC_ADD  DES_ADD  PKT_ID  FROM_NODE  TO_NODE PKT_TYPE  PKT_SIZE  FID  \\\n",
       "0     3.00    24.30  389693         21       23      tcp      1540    4   \n",
       "1    15.00    24.15  201196         23       24      tcp      1540   16   \n",
       "2    24.15    15.00   61905         23       22      ack        55   16   \n",
       "3    24.90     9.00  443135         23       21      ack        55   10   \n",
       "4    24.80     8.00  157335         23       21      ack        55    9   \n",
       "\n",
       "   SEQ_NUMBER  NUMBER_OF_PKT  ...    PKT_RATE BYTE_RATE PKT_AVG_SIZE  \\\n",
       "0       11339          16091  ...  328.240918  505490.0       1540.0   \n",
       "1        6274          16092  ...  328.205808  505437.0       1540.0   \n",
       "2        1930          16092  ...  328.206042   18051.3         55.0   \n",
       "3       12670          16085  ...  328.064183   18043.5         55.0   \n",
       "4        4901          16088  ...  328.113525   18046.2         55.0   \n",
       "\n",
       "   UTILIZATION  PKT_DELAY  PKT_SEND_TIME  PKT_RESEVED_TIME  FIRST_PKT_SENT  \\\n",
       "0     0.236321        0.0      35.519662         35.550032        1.000000   \n",
       "1     0.236337        0.0      20.156478         20.186848        1.000000   \n",
       "2     0.008441        0.0       7.039952          7.069962        1.030045   \n",
       "3     0.008437        0.0      39.617967         39.647976        1.030058   \n",
       "4     0.008438        0.0      16.029803         16.059813        1.030054   \n",
       "\n",
       "   LAST_PKT_RESEVED  PKT_CLASS  \n",
       "0         50.021920     Normal  \n",
       "1         50.030211     Normal  \n",
       "2         50.060221  UDP-Flood  \n",
       "3         50.060098     Normal  \n",
       "4         50.061864     Normal  \n",
       "\n",
       "[5 rows x 27 columns]"
      ]
     },
     "execution_count": 3,
     "metadata": {},
     "output_type": "execute_result"
    }
   ],
   "source": [
    "data.head()"
   ]
  },
  {
   "cell_type": "code",
   "execution_count": 4,
   "id": "f51df7d8",
   "metadata": {},
   "outputs": [
    {
     "name": "stdout",
     "output_type": "stream",
     "text": [
      "<class 'pandas.core.frame.DataFrame'>\n",
      "RangeIndex: 20079 entries, 0 to 20078\n",
      "Data columns (total 27 columns):\n",
      " #   Column            Non-Null Count  Dtype  \n",
      "---  ------            --------------  -----  \n",
      " 0   SRC_ADD           20079 non-null  float64\n",
      " 1   DES_ADD           20079 non-null  float64\n",
      " 2   PKT_ID            20079 non-null  int64  \n",
      " 3   FROM_NODE         20079 non-null  int64  \n",
      " 4   TO_NODE           20079 non-null  int64  \n",
      " 5   PKT_TYPE          20079 non-null  object \n",
      " 6   PKT_SIZE          20079 non-null  int64  \n",
      " 7   FID               20079 non-null  int64  \n",
      " 8   SEQ_NUMBER        20079 non-null  int64  \n",
      " 9   NUMBER_OF_PKT     20079 non-null  int64  \n",
      " 10  NUMBER_OF_BYTE    20079 non-null  int64  \n",
      " 11  NODE_NAME_FROM    20079 non-null  object \n",
      " 12  NODE_NAME_TO      20079 non-null  object \n",
      " 13  PKT_IN            20079 non-null  float64\n",
      " 14  PKT_OUT           20079 non-null  float64\n",
      " 15  PKT_R             20079 non-null  float64\n",
      " 16  PKT_DELAY_NODE    20079 non-null  float64\n",
      " 17  PKT_RATE          20079 non-null  float64\n",
      " 18  BYTE_RATE         20079 non-null  float64\n",
      " 19  PKT_AVG_SIZE      20079 non-null  float64\n",
      " 20  UTILIZATION       20079 non-null  float64\n",
      " 21  PKT_DELAY         20079 non-null  float64\n",
      " 22  PKT_SEND_TIME     20079 non-null  float64\n",
      " 23  PKT_RESEVED_TIME  20079 non-null  float64\n",
      " 24  FIRST_PKT_SENT    20079 non-null  float64\n",
      " 25  LAST_PKT_RESEVED  20079 non-null  float64\n",
      " 26  PKT_CLASS         20079 non-null  object \n",
      "dtypes: float64(15), int64(8), object(4)\n",
      "memory usage: 4.1+ MB\n"
     ]
    }
   ],
   "source": [
    "data.info()"
   ]
  },
  {
   "cell_type": "code",
   "execution_count": 5,
   "id": "77f8dbac",
   "metadata": {},
   "outputs": [],
   "source": [
    "a = LabelEncoder()\n",
    "for i in data.columns:\n",
    "  if data[i].dtype == 'object':\n",
    "    data[i] = a.fit_transform(data[i])"
   ]
  },
  {
   "cell_type": "code",
   "execution_count": 6,
   "id": "6ec73b2d",
   "metadata": {},
   "outputs": [
    {
     "name": "stdout",
     "output_type": "stream",
     "text": [
      "<class 'pandas.core.frame.DataFrame'>\n",
      "RangeIndex: 20079 entries, 0 to 20078\n",
      "Data columns (total 27 columns):\n",
      " #   Column            Non-Null Count  Dtype  \n",
      "---  ------            --------------  -----  \n",
      " 0   SRC_ADD           20079 non-null  float64\n",
      " 1   DES_ADD           20079 non-null  float64\n",
      " 2   PKT_ID            20079 non-null  int64  \n",
      " 3   FROM_NODE         20079 non-null  int64  \n",
      " 4   TO_NODE           20079 non-null  int64  \n",
      " 5   PKT_TYPE          20079 non-null  int32  \n",
      " 6   PKT_SIZE          20079 non-null  int64  \n",
      " 7   FID               20079 non-null  int64  \n",
      " 8   SEQ_NUMBER        20079 non-null  int64  \n",
      " 9   NUMBER_OF_PKT     20079 non-null  int64  \n",
      " 10  NUMBER_OF_BYTE    20079 non-null  int64  \n",
      " 11  NODE_NAME_FROM    20079 non-null  int32  \n",
      " 12  NODE_NAME_TO      20079 non-null  int32  \n",
      " 13  PKT_IN            20079 non-null  float64\n",
      " 14  PKT_OUT           20079 non-null  float64\n",
      " 15  PKT_R             20079 non-null  float64\n",
      " 16  PKT_DELAY_NODE    20079 non-null  float64\n",
      " 17  PKT_RATE          20079 non-null  float64\n",
      " 18  BYTE_RATE         20079 non-null  float64\n",
      " 19  PKT_AVG_SIZE      20079 non-null  float64\n",
      " 20  UTILIZATION       20079 non-null  float64\n",
      " 21  PKT_DELAY         20079 non-null  float64\n",
      " 22  PKT_SEND_TIME     20079 non-null  float64\n",
      " 23  PKT_RESEVED_TIME  20079 non-null  float64\n",
      " 24  FIRST_PKT_SENT    20079 non-null  float64\n",
      " 25  LAST_PKT_RESEVED  20079 non-null  float64\n",
      " 26  PKT_CLASS         20079 non-null  int32  \n",
      "dtypes: float64(15), int32(4), int64(8)\n",
      "memory usage: 3.8 MB\n"
     ]
    }
   ],
   "source": [
    "data.info()"
   ]
  },
  {
   "cell_type": "code",
   "execution_count": 7,
   "id": "ffa6d267",
   "metadata": {},
   "outputs": [],
   "source": [
    "X = data.drop('PKT_CLASS',axis=1)\n",
    "Y = data['PKT_CLASS']"
   ]
  },
  {
   "cell_type": "code",
   "execution_count": 8,
   "id": "5c65c7a8",
   "metadata": {},
   "outputs": [
    {
     "name": "stdout",
     "output_type": "stream",
     "text": [
      "20079\n"
     ]
    }
   ],
   "source": [
    "X_train, X_test, Y_train, Y_test = train_test_split(X, Y, test_size=0.2, random_state=0)\n",
    "\n",
    "l = len(X)\n",
    "print(l)"
   ]
  },
  {
   "cell_type": "code",
   "execution_count": 9,
   "id": "c1eb1130",
   "metadata": {},
   "outputs": [],
   "source": [
    "scaler = StandardScaler()\n",
    "X_train = scaler.fit_transform(X_train)\n",
    "X_test = scaler.transform(X_test)\n",
    "Y_train = np.array(Y_train)\n",
    "Y_test = np.array(Y_test)"
   ]
  },
  {
   "cell_type": "code",
   "execution_count": 10,
   "id": "3743a136",
   "metadata": {},
   "outputs": [],
   "source": [
    "# Define the individual classifiers\n",
    "knn_model = KNeighborsClassifier(n_neighbors=1)\n",
    "rf_model = RandomForestClassifier(n_estimators=500)"
   ]
  },
  {
   "cell_type": "code",
   "execution_count": 11,
   "id": "625826d2",
   "metadata": {},
   "outputs": [],
   "source": [
    "# Create the hybrid model using VotingClassifier\n",
    "hybrid_model = VotingClassifier(estimators=[\n",
    "    ('knn', knn_model),\n",
    "    ('rf', rf_model)\n",
    "], voting='hard')\n"
   ]
  },
  {
   "cell_type": "code",
   "execution_count": 12,
   "id": "8a46badd",
   "metadata": {},
   "outputs": [
    {
     "data": {
      "text/html": [
       "<style>#sk-container-id-1 {color: black;background-color: white;}#sk-container-id-1 pre{padding: 0;}#sk-container-id-1 div.sk-toggleable {background-color: white;}#sk-container-id-1 label.sk-toggleable__label {cursor: pointer;display: block;width: 100%;margin-bottom: 0;padding: 0.3em;box-sizing: border-box;text-align: center;}#sk-container-id-1 label.sk-toggleable__label-arrow:before {content: \"▸\";float: left;margin-right: 0.25em;color: #696969;}#sk-container-id-1 label.sk-toggleable__label-arrow:hover:before {color: black;}#sk-container-id-1 div.sk-estimator:hover label.sk-toggleable__label-arrow:before {color: black;}#sk-container-id-1 div.sk-toggleable__content {max-height: 0;max-width: 0;overflow: hidden;text-align: left;background-color: #f0f8ff;}#sk-container-id-1 div.sk-toggleable__content pre {margin: 0.2em;color: black;border-radius: 0.25em;background-color: #f0f8ff;}#sk-container-id-1 input.sk-toggleable__control:checked~div.sk-toggleable__content {max-height: 200px;max-width: 100%;overflow: auto;}#sk-container-id-1 input.sk-toggleable__control:checked~label.sk-toggleable__label-arrow:before {content: \"▾\";}#sk-container-id-1 div.sk-estimator input.sk-toggleable__control:checked~label.sk-toggleable__label {background-color: #d4ebff;}#sk-container-id-1 div.sk-label input.sk-toggleable__control:checked~label.sk-toggleable__label {background-color: #d4ebff;}#sk-container-id-1 input.sk-hidden--visually {border: 0;clip: rect(1px 1px 1px 1px);clip: rect(1px, 1px, 1px, 1px);height: 1px;margin: -1px;overflow: hidden;padding: 0;position: absolute;width: 1px;}#sk-container-id-1 div.sk-estimator {font-family: monospace;background-color: #f0f8ff;border: 1px dotted black;border-radius: 0.25em;box-sizing: border-box;margin-bottom: 0.5em;}#sk-container-id-1 div.sk-estimator:hover {background-color: #d4ebff;}#sk-container-id-1 div.sk-parallel-item::after {content: \"\";width: 100%;border-bottom: 1px solid gray;flex-grow: 1;}#sk-container-id-1 div.sk-label:hover label.sk-toggleable__label {background-color: #d4ebff;}#sk-container-id-1 div.sk-serial::before {content: \"\";position: absolute;border-left: 1px solid gray;box-sizing: border-box;top: 0;bottom: 0;left: 50%;z-index: 0;}#sk-container-id-1 div.sk-serial {display: flex;flex-direction: column;align-items: center;background-color: white;padding-right: 0.2em;padding-left: 0.2em;position: relative;}#sk-container-id-1 div.sk-item {position: relative;z-index: 1;}#sk-container-id-1 div.sk-parallel {display: flex;align-items: stretch;justify-content: center;background-color: white;position: relative;}#sk-container-id-1 div.sk-item::before, #sk-container-id-1 div.sk-parallel-item::before {content: \"\";position: absolute;border-left: 1px solid gray;box-sizing: border-box;top: 0;bottom: 0;left: 50%;z-index: -1;}#sk-container-id-1 div.sk-parallel-item {display: flex;flex-direction: column;z-index: 1;position: relative;background-color: white;}#sk-container-id-1 div.sk-parallel-item:first-child::after {align-self: flex-end;width: 50%;}#sk-container-id-1 div.sk-parallel-item:last-child::after {align-self: flex-start;width: 50%;}#sk-container-id-1 div.sk-parallel-item:only-child::after {width: 0;}#sk-container-id-1 div.sk-dashed-wrapped {border: 1px dashed gray;margin: 0 0.4em 0.5em 0.4em;box-sizing: border-box;padding-bottom: 0.4em;background-color: white;}#sk-container-id-1 div.sk-label label {font-family: monospace;font-weight: bold;display: inline-block;line-height: 1.2em;}#sk-container-id-1 div.sk-label-container {text-align: center;}#sk-container-id-1 div.sk-container {/* jupyter's `normalize.less` sets `[hidden] { display: none; }` but bootstrap.min.css set `[hidden] { display: none !important; }` so we also need the `!important` here to be able to override the default hidden behavior on the sphinx rendered scikit-learn.org. See: https://github.com/scikit-learn/scikit-learn/issues/21755 */display: inline-block !important;position: relative;}#sk-container-id-1 div.sk-text-repr-fallback {display: none;}</style><div id=\"sk-container-id-1\" class=\"sk-top-container\"><div class=\"sk-text-repr-fallback\"><pre>VotingClassifier(estimators=[(&#x27;knn&#x27;, KNeighborsClassifier(n_neighbors=1)),\n",
       "                             (&#x27;rf&#x27;, RandomForestClassifier(n_estimators=500))])</pre><b>In a Jupyter environment, please rerun this cell to show the HTML representation or trust the notebook. <br />On GitHub, the HTML representation is unable to render, please try loading this page with nbviewer.org.</b></div><div class=\"sk-container\" hidden><div class=\"sk-item sk-dashed-wrapped\"><div class=\"sk-label-container\"><div class=\"sk-label sk-toggleable\"><input class=\"sk-toggleable__control sk-hidden--visually\" id=\"sk-estimator-id-1\" type=\"checkbox\" ><label for=\"sk-estimator-id-1\" class=\"sk-toggleable__label sk-toggleable__label-arrow\">VotingClassifier</label><div class=\"sk-toggleable__content\"><pre>VotingClassifier(estimators=[(&#x27;knn&#x27;, KNeighborsClassifier(n_neighbors=1)),\n",
       "                             (&#x27;rf&#x27;, RandomForestClassifier(n_estimators=500))])</pre></div></div></div><div class=\"sk-parallel\"><div class=\"sk-parallel-item\"><div class=\"sk-item\"><div class=\"sk-label-container\"><div class=\"sk-label sk-toggleable\"><label>knn</label></div></div><div class=\"sk-serial\"><div class=\"sk-item\"><div class=\"sk-estimator sk-toggleable\"><input class=\"sk-toggleable__control sk-hidden--visually\" id=\"sk-estimator-id-2\" type=\"checkbox\" ><label for=\"sk-estimator-id-2\" class=\"sk-toggleable__label sk-toggleable__label-arrow\">KNeighborsClassifier</label><div class=\"sk-toggleable__content\"><pre>KNeighborsClassifier(n_neighbors=1)</pre></div></div></div></div></div></div><div class=\"sk-parallel-item\"><div class=\"sk-item\"><div class=\"sk-label-container\"><div class=\"sk-label sk-toggleable\"><label>rf</label></div></div><div class=\"sk-serial\"><div class=\"sk-item\"><div class=\"sk-estimator sk-toggleable\"><input class=\"sk-toggleable__control sk-hidden--visually\" id=\"sk-estimator-id-3\" type=\"checkbox\" ><label for=\"sk-estimator-id-3\" class=\"sk-toggleable__label sk-toggleable__label-arrow\">RandomForestClassifier</label><div class=\"sk-toggleable__content\"><pre>RandomForestClassifier(n_estimators=500)</pre></div></div></div></div></div></div></div></div></div></div>"
      ],
      "text/plain": [
       "VotingClassifier(estimators=[('knn', KNeighborsClassifier(n_neighbors=1)),\n",
       "                             ('rf', RandomForestClassifier(n_estimators=500))])"
      ]
     },
     "execution_count": 12,
     "metadata": {},
     "output_type": "execute_result"
    }
   ],
   "source": [
    "# Train the hybrid model\n",
    "hybrid_model.fit(X_train, Y_train)"
   ]
  },
  {
   "cell_type": "code",
   "execution_count": 13,
   "id": "3f44ec3b",
   "metadata": {},
   "outputs": [],
   "source": [
    "# Make predictions using the hybrid model\n",
    "Y_pred_hybrid = hybrid_model.predict(X_test)"
   ]
  },
  {
   "cell_type": "code",
   "execution_count": 14,
   "id": "b7d70140",
   "metadata": {},
   "outputs": [
    {
     "name": "stdout",
     "output_type": "stream",
     "text": [
      "Accuracy of the hybrid model: 98.2320717131474 %\n"
     ]
    }
   ],
   "source": [
    "# Evaluate the hybrid model\n",
    "accuracy_hybrid = accuracy_score(Y_pred_hybrid, Y_test)\n",
    "print(\"Accuracy of the hybrid model:\", accuracy_hybrid * 100, \"%\")"
   ]
  },
  {
   "cell_type": "code",
   "execution_count": 15,
   "id": "73e1d74e",
   "metadata": {},
   "outputs": [
    {
     "data": {
      "image/png": "[encoded data removed]",
      "text/plain": [
       "<Figure size 800x600 with 2 Axes>"
      ]
     },
     "metadata": {},
     "output_type": "display_data"
    }
   ],
   "source": [
    "# Plot confusion matrix for the hybrid model\n",
    "cm = confusion_matrix(Y_test, Y_pred_hybrid)\n",
    "plt.figure(figsize=(8, 6))\n",
    "sns.heatmap(cm, annot=True, fmt=\"d\", cmap=\"Blues\", xticklabels=np.unique(Y_test), yticklabels=np.unique(Y_test))\n",
    "plt.xlabel('Predicted')\n",
    "plt.ylabel('Actual')\n",
    "plt.title('Confusion Matrix for Hybrid Model')\n",
    "plt.show()"
   ]
  },
  {
   "cell_type": "code",
   "execution_count": null,
   "id": "39e52cd0",
   "metadata": {},
   "outputs": [],
   "source": []
  }
 ],
 "metadata": {
  "kernelspec": {
   "display_name": "Python 3 (ipykernel)",
   "language": "python",
   "name": "python3"
  },
  "language_info": {
   "codemirror_mode": {
    "name": "ipython",
    "version": 3
   },
   "file_extension": ".py",
   "mimetype": "text/x-python",
   "name": "python",
   "nbconvert_exporter": "python",
   "pygments_lexer": "ipython3",
   "version": "3.10.9"
  }
 },
 "nbformat": 4,
 "nbformat_minor": 5
}
